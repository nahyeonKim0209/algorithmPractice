{
 "cells": [
  {
   "cell_type": "markdown",
   "metadata": {},
   "source": [
    "### 6001. [기초-출력] 출력하기01"
   ]
  },
  {
   "cell_type": "code",
   "execution_count": null,
   "metadata": {},
   "outputs": [
    {
     "name": "stdout",
     "output_type": "stream",
     "text": [
      "Hello\n"
     ]
    }
   ],
   "source": [
    "print(\"Hello\")"
   ]
  },
  {
   "cell_type": "markdown",
   "metadata": {},
   "source": [
    "### 6002. [기초-출력] 출력하기02"
   ]
  },
  {
   "cell_type": "code",
   "execution_count": null,
   "metadata": {},
   "outputs": [
    {
     "name": "stdout",
     "output_type": "stream",
     "text": [
      "Hello World\n"
     ]
    }
   ],
   "source": [
    "print(\"Hello World\")"
   ]
  },
  {
   "cell_type": "markdown",
   "metadata": {},
   "source": [
    "### 6003. [기초-출력] 출력하기03"
   ]
  },
  {
   "cell_type": "code",
   "execution_count": 5,
   "metadata": {},
   "outputs": [
    {
     "name": "stdout",
     "output_type": "stream",
     "text": [
      "Hello\n",
      "World\n"
     ]
    }
   ],
   "source": [
    "print(\"Hello\\nWorld\")\n"
   ]
  },
  {
   "cell_type": "markdown",
   "metadata": {},
   "source": [
    "### 6004. [기초-출력] 출력하기04"
   ]
  },
  {
   "cell_type": "code",
   "execution_count": 6,
   "metadata": {},
   "outputs": [
    {
     "name": "stdout",
     "output_type": "stream",
     "text": [
      "'Hello'\n"
     ]
    }
   ],
   "source": [
    "print(\"'Hello'\")\n"
   ]
  },
  {
   "cell_type": "markdown",
   "metadata": {},
   "source": [
    "### 6005. [기초-출력] 출력하기05"
   ]
  },
  {
   "cell_type": "code",
   "execution_count": 7,
   "metadata": {},
   "outputs": [
    {
     "name": "stdout",
     "output_type": "stream",
     "text": [
      "\"Hello World\"\n"
     ]
    }
   ],
   "source": [
    "print(\"\\\"Hello World\\\"\")\n"
   ]
  },
  {
   "cell_type": "markdown",
   "metadata": {},
   "source": [
    "### 6006. [기초-출력] 출력하기06"
   ]
  },
  {
   "cell_type": "code",
   "execution_count": 8,
   "metadata": {},
   "outputs": [
    {
     "name": "stdout",
     "output_type": "stream",
     "text": [
      "\"!@#$%^&*()'\n"
     ]
    }
   ],
   "source": [
    "print(\"\\\"!@#$%^&*()'\")"
   ]
  },
  {
   "cell_type": "markdown",
   "metadata": {},
   "source": [
    "### 6007. [기초-출력] 출력하기07"
   ]
  },
  {
   "cell_type": "code",
   "execution_count": 9,
   "metadata": {},
   "outputs": [
    {
     "name": "stdout",
     "output_type": "stream",
     "text": [
      "\"C:\\Download\\'hello'.py\"\n"
     ]
    }
   ],
   "source": [
    "print(\"\\\"C:\\\\Download\\\\'hello'.py\\\"\")\n"
   ]
  },
  {
   "cell_type": "markdown",
   "metadata": {},
   "source": [
    "### 6008. [기초-출력] 출력하기08"
   ]
  },
  {
   "cell_type": "code",
   "execution_count": null,
   "metadata": {},
   "outputs": [
    {
     "name": "stdout",
     "output_type": "stream",
     "text": [
      "print(\"Hello\\nWorld\")\n"
     ]
    }
   ],
   "source": [
    "print(\"print(\\\"Hello\\\\nWorld\\\")\")"
   ]
  },
  {
   "cell_type": "markdown",
   "metadata": {},
   "source": [
    "### 6009. [기초-입출력] 문자 1개 입력받아 그대로 출력하기"
   ]
  },
  {
   "cell_type": "code",
   "execution_count": 11,
   "metadata": {},
   "outputs": [
    {
     "name": "stdout",
     "output_type": "stream",
     "text": [
      "3\n"
     ]
    }
   ],
   "source": [
    "x=input()\n",
    "print(x)"
   ]
  },
  {
   "cell_type": "markdown",
   "metadata": {},
   "source": [
    "### 6010. [기초-입출력] 정수 1개 입력받아 int로 변환하여 출력하기"
   ]
  },
  {
   "cell_type": "code",
   "execution_count": null,
   "metadata": {},
   "outputs": [],
   "source": [
    "x=input()\n",
    "x=int(x)\n",
    "print(x)"
   ]
  },
  {
   "cell_type": "markdown",
   "metadata": {},
   "source": [
    "### 6011. [기초-입출력] 실수 1개 입력받아 변환하여 출력하기"
   ]
  },
  {
   "cell_type": "code",
   "execution_count": 12,
   "metadata": {},
   "outputs": [
    {
     "name": "stdout",
     "output_type": "stream",
     "text": [
      "2.3\n"
     ]
    }
   ],
   "source": [
    "x=input()\n",
    "x=float(x)\n",
    "print(x)"
   ]
  },
  {
   "cell_type": "markdown",
   "metadata": {},
   "source": [
    "### 6012. [기초-입출력] 정수 2개 입력받아 그대로 출력하기1"
   ]
  },
  {
   "cell_type": "code",
   "execution_count": 13,
   "metadata": {},
   "outputs": [
    {
     "name": "stdout",
     "output_type": "stream",
     "text": [
      "3\n",
      "4\n"
     ]
    }
   ],
   "source": [
    "x=input()\n",
    "y=input()\n",
    "x=int(x)\n",
    "y=int(y)\n",
    "print(x)\n",
    "print(y)"
   ]
  },
  {
   "cell_type": "markdown",
   "metadata": {},
   "source": [
    "### 6013. [기초-입출력] 문자 2개 입력받아 순서 바꿔 출력하기1"
   ]
  },
  {
   "cell_type": "code",
   "execution_count": 14,
   "metadata": {},
   "outputs": [
    {
     "name": "stdout",
     "output_type": "stream",
     "text": [
      "ㅂ\n",
      "ㅁ\n"
     ]
    }
   ],
   "source": [
    "x=input()\n",
    "y=input()\n",
    "print(y)\n",
    "print(x)"
   ]
  },
  {
   "cell_type": "markdown",
   "metadata": {},
   "source": [
    "### 6014. [기초-입출력] 실수 1개 입력받아 3번 출력하기"
   ]
  },
  {
   "cell_type": "code",
   "execution_count": 15,
   "metadata": {},
   "outputs": [
    {
     "name": "stdout",
     "output_type": "stream",
     "text": [
      "32.0\n",
      "32.0\n",
      "32.0\n"
     ]
    }
   ],
   "source": [
    "x=float(input())\n",
    "print(x)\n",
    "print(x)\n",
    "print(x)\n"
   ]
  },
  {
   "cell_type": "markdown",
   "metadata": {},
   "source": [
    "### 6015. [기초-입출력] 정수 2개 입력받아 그대로 출력하기2"
   ]
  },
  {
   "cell_type": "markdown",
   "metadata": {},
   "source": [
    "- input().split()을 사용하면, 공백을 기준으로 입력된 값들을 나누어(split) 자른다."
   ]
  },
  {
   "cell_type": "code",
   "execution_count": 16,
   "metadata": {},
   "outputs": [
    {
     "name": "stdout",
     "output_type": "stream",
     "text": [
      "3\n",
      "4\n"
     ]
    }
   ],
   "source": [
    "x, y = input().split()\n",
    "x=int(x)\n",
    "y=int(y)\n",
    "print(x)\n",
    "print(y)"
   ]
  },
  {
   "cell_type": "markdown",
   "metadata": {},
   "source": [
    "### 6016. [기초-입출력] 문자 2개 입력받아 순서 바꿔 출력하기2"
   ]
  },
  {
   "cell_type": "code",
   "execution_count": 17,
   "metadata": {},
   "outputs": [
    {
     "name": "stdout",
     "output_type": "stream",
     "text": [
      "ㅂ ㅁ\n"
     ]
    }
   ],
   "source": [
    "x, y = input().split()\n",
    "print(y, x)\n"
   ]
  },
  {
   "cell_type": "markdown",
   "metadata": {},
   "source": [
    "### 6017. [기초-입출력] 문장 1개 입력받아 3번 출력하기"
   ]
  },
  {
   "cell_type": "code",
   "execution_count": 18,
   "metadata": {},
   "outputs": [
    {
     "name": "stdout",
     "output_type": "stream",
     "text": [
      "computer science computer science computer science\n"
     ]
    }
   ],
   "source": [
    "x = input()\n",
    "print(x, x, x)"
   ]
  },
  {
   "cell_type": "markdown",
   "metadata": {},
   "source": [
    "### 6018. [기초-입출력] 시간 입력받아 그대로 출력하기"
   ]
  },
  {
   "cell_type": "markdown",
   "metadata": {},
   "source": [
    "- ``sep``은 분류기호(seperator)를 의미한다.\n",
    "- print(a, b, sep=\":\")는 ':' 기호를 사이에 두고 a와 b를 출력한다는 의미다."
   ]
  },
  {
   "cell_type": "code",
   "execution_count": null,
   "metadata": {},
   "outputs": [],
   "source": [
    "hour, minute = input().split(':')\n",
    "print(hour, minute, sep=':')"
   ]
  },
  {
   "cell_type": "markdown",
   "metadata": {},
   "source": [
    "### 6019. [기초-입출력] 연원일 입력받아 순서 바꿔 출력하기"
   ]
  },
  {
   "cell_type": "code",
   "execution_count": null,
   "metadata": {},
   "outputs": [],
   "source": [
    "year, month, day = input().split('.')\n",
    "print(day, month, year, sep='-')"
   ]
  },
  {
   "cell_type": "markdown",
   "metadata": {},
   "source": [
    "### 6020. [기초-입출력] 주민번호 입력받아 형태 바꿔 출력하기"
   ]
  },
  {
   "cell_type": "code",
   "execution_count": null,
   "metadata": {},
   "outputs": [
    {
     "name": "stdout",
     "output_type": "stream",
     "text": [
      "0106224685219\n",
      "010622\n",
      "4685219\n"
     ]
    }
   ],
   "source": [
    "RRN1, RRN2 = input().split('-')\n",
    "print(RRN1+RRN2)"
   ]
  },
  {
   "cell_type": "code",
   "execution_count": 22,
   "metadata": {},
   "outputs": [
    {
     "name": "stdout",
     "output_type": "stream",
     "text": [
      "0106224685219\n"
     ]
    }
   ],
   "source": [
    "RRN1, RRN2 = input().split('-')\n",
    "print(RRN1, RRN2, sep=\"\")"
   ]
  },
  {
   "cell_type": "markdown",
   "metadata": {},
   "source": [
    "### 6021. [기초-입출력] 단어 1개 입력받아 나누어 출력하기"
   ]
  },
  {
   "cell_type": "code",
   "execution_count": 23,
   "metadata": {},
   "outputs": [
    {
     "name": "stdout",
     "output_type": "stream",
     "text": [
      "H\n",
      "e\n",
      "l\n",
      "l\n",
      "o\n"
     ]
    }
   ],
   "source": [
    "s=input()\n",
    "print(s[0])\n",
    "print(s[1])\n",
    "print(s[2])\n",
    "print(s[3])\n",
    "print(s[4])"
   ]
  },
  {
   "cell_type": "markdown",
   "metadata": {},
   "source": [
    "### 6022. [기초-입출력] 연원일 입력받아 나누어 출력하기"
   ]
  },
  {
   "cell_type": "code",
   "execution_count": 24,
   "metadata": {},
   "outputs": [
    {
     "name": "stdout",
     "output_type": "stream",
     "text": [
      "22\n",
      "33\n",
      "44\n"
     ]
    }
   ],
   "source": [
    "s=input()\n",
    "print(s[0:2])\n",
    "print(s[2:4])\n",
    "print(s[4:6])"
   ]
  },
  {
   "cell_type": "markdown",
   "metadata": {},
   "source": [
    "### 6023. [기초-입출력] 시분초 입력받아 분만 출력하기"
   ]
  },
  {
   "cell_type": "code",
   "execution_count": null,
   "metadata": {},
   "outputs": [
    {
     "name": "stdout",
     "output_type": "stream",
     "text": [
      "23\n"
     ]
    }
   ],
   "source": [
    "hour, minute, second = input().split(':')\n",
    "print(minute)"
   ]
  },
  {
   "cell_type": "markdown",
   "metadata": {},
   "source": [
    "### 6024. [기초-입출력] 단어 2개 입력받아 이어붙이기"
   ]
  },
  {
   "cell_type": "code",
   "execution_count": 30,
   "metadata": {},
   "outputs": [
    {
     "name": "stdout",
     "output_type": "stream",
     "text": [
      "ab\n"
     ]
    }
   ],
   "source": [
    "x, y = input().split()\n",
    "print(x+y)"
   ]
  },
  {
   "cell_type": "markdown",
   "metadata": {},
   "source": [
    "### 6025. [기초-값변환] 정수 2개 입력받아 합 계산하기"
   ]
  },
  {
   "cell_type": "code",
   "execution_count": null,
   "metadata": {},
   "outputs": [
    {
     "name": "stdout",
     "output_type": "stream",
     "text": [
      "34\n"
     ]
    }
   ],
   "source": [
    "x, y = input().split()\n",
    "z = int(x)+int(y)\n",
    "print(z)"
   ]
  },
  {
   "cell_type": "markdown",
   "metadata": {},
   "source": [
    "### 6026. [기초-값변환] 실수 2개 입력받아 합 계산하기"
   ]
  },
  {
   "cell_type": "code",
   "execution_count": null,
   "metadata": {},
   "outputs": [
    {
     "name": "stdout",
     "output_type": "stream",
     "text": [
      "3.4 4.5 7.9\n"
     ]
    }
   ],
   "source": [
    "x = float(input())\n",
    "y = float(input())\n",
    "print(x+y)"
   ]
  },
  {
   "cell_type": "markdown",
   "metadata": {},
   "source": [
    "### 6027. [기초-출력변환] 10진 정수 입력받아 16진수로 출력하기1"
   ]
  },
  {
   "cell_type": "markdown",
   "metadata": {},
   "source": [
    "- python에서의 8진수 출력 : %o\n",
    "- python에서의 16진수 출력 : %x"
   ]
  },
  {
   "cell_type": "code",
   "execution_count": 39,
   "metadata": {},
   "outputs": [
    {
     "name": "stdout",
     "output_type": "stream",
     "text": [
      "ff\n"
     ]
    }
   ],
   "source": [
    "x = int(input())\n",
    "print('%x'%x)"
   ]
  },
  {
   "cell_type": "markdown",
   "metadata": {},
   "source": [
    "### 6028. [기초-출력변환] 10진 정수 입력받아 16진수로 출력하기2"
   ]
  },
  {
   "cell_type": "code",
   "execution_count": 40,
   "metadata": {},
   "outputs": [
    {
     "name": "stdout",
     "output_type": "stream",
     "text": [
      "FF\n"
     ]
    }
   ],
   "source": [
    "x = int(input())\n",
    "print('%X'%x)"
   ]
  },
  {
   "cell_type": "markdown",
   "metadata": {},
   "source": [
    "### 6029. [기초-값변환] 16진수 정수 입력받아 8진수로 출력하기"
   ]
  },
  {
   "cell_type": "code",
   "execution_count": null,
   "metadata": {},
   "outputs": [
    {
     "name": "stdout",
     "output_type": "stream",
     "text": [
      "17\n"
     ]
    }
   ],
   "source": [
    "x=int(input(), 16) ##16진수 정수로 입력\n",
    "print('%o'%x)\n"
   ]
  },
  {
   "cell_type": "markdown",
   "metadata": {},
   "source": [
    "### 6030. [기초-값변환] 영문자 1개 입력받아 10진수로 변환하기"
   ]
  },
  {
   "cell_type": "markdown",
   "metadata": {},
   "source": [
    "- ``ord()``는 어떤 문자의 순서 위치(ordinal position) 값을 의미하는 것   \n",
    "문자들에게 부여된 위치(유니 코드 값)을 출력하는 데에 사용된다.\n",
    "- ``ord()``는 문자 -> 정수 형태로의 변환을 맡고 있으므로 정수 -> 문자 형태의 변환은 다른 함수를 사용해야 한다."
   ]
  },
  {
   "cell_type": "code",
   "execution_count": 43,
   "metadata": {},
   "outputs": [
    {
     "name": "stdout",
     "output_type": "stream",
     "text": [
      "65\n"
     ]
    }
   ],
   "source": [
    "n = ord(input())\n",
    "print(n)"
   ]
  },
  {
   "cell_type": "markdown",
   "metadata": {},
   "source": [
    "### 6031. [기초-값변환] 정수 입력받아 유니코드 문자로 변환하기"
   ]
  },
  {
   "cell_type": "markdown",
   "metadata": {},
   "source": [
    "- ``chr()`` 를 사용하면 정수 -> 문자 형태의 변환을 실행할 수 있다."
   ]
  },
  {
   "cell_type": "code",
   "execution_count": 46,
   "metadata": {},
   "outputs": [
    {
     "name": "stdout",
     "output_type": "stream",
     "text": [
      "\"\n"
     ]
    }
   ],
   "source": [
    "x = int(input())\n",
    "print(chr(x))"
   ]
  },
  {
   "cell_type": "markdown",
   "metadata": {},
   "source": [
    "### 6032. [기초-산술연산] 정수 1개 입력받아 부호 바꾸기"
   ]
  },
  {
   "cell_type": "code",
   "execution_count": 48,
   "metadata": {},
   "outputs": [
    {
     "name": "stdout",
     "output_type": "stream",
     "text": [
      "3\n"
     ]
    }
   ],
   "source": [
    "x = int(input())\n",
    "print(-x)"
   ]
  },
  {
   "cell_type": "markdown",
   "metadata": {},
   "source": [
    "### 6033. [기초-산술연산] 문자 1개 입력받아 다음 문자 출력하기"
   ]
  },
  {
   "cell_type": "code",
   "execution_count": 49,
   "metadata": {},
   "outputs": [
    {
     "name": "stdout",
     "output_type": "stream",
     "text": [
      "b\n"
     ]
    }
   ],
   "source": [
    "x = input()\n",
    "y = ord(x)+1\n",
    "print(chr(y))"
   ]
  },
  {
   "cell_type": "code",
   "execution_count": 51,
   "metadata": {},
   "outputs": [
    {
     "name": "stdout",
     "output_type": "stream",
     "text": [
      "b\n"
     ]
    }
   ],
   "source": [
    "x = ord(input())\n",
    "print(chr(x+1))"
   ]
  },
  {
   "cell_type": "markdown",
   "metadata": {},
   "source": [
    "### 6034. [기초-산술연산] 정수 2개 입력받아 차 계산하기"
   ]
  },
  {
   "cell_type": "code",
   "execution_count": 55,
   "metadata": {},
   "outputs": [
    {
     "name": "stdout",
     "output_type": "stream",
     "text": [
      "246\n"
     ]
    }
   ],
   "source": [
    "x, y = input().split()\n",
    "print(int(x)-int(y))"
   ]
  },
  {
   "cell_type": "markdown",
   "metadata": {},
   "source": [
    "### 6035. [기초-산술연산] 실수 2개 입력받아 곱 계산하기"
   ]
  },
  {
   "cell_type": "code",
   "execution_count": 56,
   "metadata": {},
   "outputs": [
    {
     "name": "stdout",
     "output_type": "stream",
     "text": [
      "1.0\n"
     ]
    }
   ],
   "source": [
    "x, y = input().split()\n",
    "print(float(x)*float(y))"
   ]
  },
  {
   "cell_type": "markdown",
   "metadata": {},
   "source": [
    "### 6036. [기초-산술연산] 단어 여러 번 출력하기"
   ]
  },
  {
   "cell_type": "code",
   "execution_count": 57,
   "metadata": {},
   "outputs": [
    {
     "name": "stdout",
     "output_type": "stream",
     "text": [
      "lovelovelove\n"
     ]
    }
   ],
   "source": [
    "x, y = input().split()\n",
    "print(x*int(y))"
   ]
  },
  {
   "cell_type": "markdown",
   "metadata": {},
   "source": [
    "### 6037. [기초-산술연산] 문장 여러 번 출력하기"
   ]
  },
  {
   "cell_type": "code",
   "execution_count": 58,
   "metadata": {},
   "outputs": [
    {
     "name": "stdout",
     "output_type": "stream",
     "text": [
      "I love youI love youI love you\n"
     ]
    }
   ],
   "source": [
    "num = int(input())\n",
    "s = input()\n",
    "print(s * num)"
   ]
  },
  {
   "cell_type": "markdown",
   "metadata": {},
   "source": [
    "### 6038. [기초-산술연산] 정수 2개 입력받아 거듭제곱 계산하기"
   ]
  },
  {
   "cell_type": "markdown",
   "metadata": {},
   "source": [
    "- 거듭제곱 연산자 ``**``"
   ]
  },
  {
   "cell_type": "code",
   "execution_count": 61,
   "metadata": {},
   "outputs": [
    {
     "name": "stdout",
     "output_type": "stream",
     "text": [
      "81\n"
     ]
    }
   ],
   "source": [
    "x, y =input().split()\n",
    "print(int(x)**int(y))"
   ]
  },
  {
   "cell_type": "markdown",
   "metadata": {},
   "source": [
    "### 6039. [기초-산술연산] 실수 2개 입력받아 거듭제곱 계산하기"
   ]
  },
  {
   "cell_type": "code",
   "execution_count": 62,
   "metadata": {},
   "outputs": [
    {
     "name": "stdout",
     "output_type": "stream",
     "text": [
      "16.0\n"
     ]
    }
   ],
   "source": [
    "x, y = input().split()\n",
    "print(float(x)**float(y))"
   ]
  },
  {
   "cell_type": "markdown",
   "metadata": {},
   "source": [
    "### 6040. [기초-산술연산] 정수 2개 입력받아 나눈 몫 계산하기"
   ]
  },
  {
   "cell_type": "markdown",
   "metadata": {},
   "source": [
    "- ``/``는 나눗셈을 의미하며 결과가 float으로 나타난다.\n",
    "- ``//``는 나눗셈을 의미하며 결과가 int로 나타난다."
   ]
  },
  {
   "cell_type": "code",
   "execution_count": 63,
   "metadata": {},
   "outputs": [
    {
     "name": "stdout",
     "output_type": "stream",
     "text": [
      "3\n"
     ]
    }
   ],
   "source": [
    "x, y = input().split()\n",
    "print(int(x) //int(y))"
   ]
  },
  {
   "cell_type": "markdown",
   "metadata": {},
   "source": [
    "### 6041. [기초-산술연산] 정수 2개 입력받아 나눈 나머지 계산하기"
   ]
  },
  {
   "cell_type": "code",
   "execution_count": 64,
   "metadata": {},
   "outputs": [
    {
     "name": "stdout",
     "output_type": "stream",
     "text": [
      "1\n"
     ]
    }
   ],
   "source": [
    "x, y = input().split()\n",
    "print(int(x) % int(y))"
   ]
  },
  {
   "cell_type": "markdown",
   "metadata": {},
   "source": [
    "### 6042. [기초-산술연산] 실수 1개 입력받아 소수점 이하 자리 변환하기"
   ]
  },
  {
   "cell_type": "markdown",
   "metadata": {},
   "source": [
    "- ``format(수, \".nf\")`` 를 사용하면 n의 자리까지의 정확도로 반올림 된 실수 값을 만들 수 있다."
   ]
  },
  {
   "cell_type": "code",
   "execution_count": 65,
   "metadata": {},
   "outputs": [
    {
     "name": "stdout",
     "output_type": "stream",
     "text": [
      "3.14\n"
     ]
    }
   ],
   "source": [
    "x = float(input())\n",
    "print(format(x, '.2f'))"
   ]
  },
  {
   "cell_type": "markdown",
   "metadata": {},
   "source": [
    "### 6043. [기초-산술연산] 실수 2개 입력받아 나눈 결과 계산하기"
   ]
  },
  {
   "cell_type": "code",
   "execution_count": null,
   "metadata": {},
   "outputs": [
    {
     "name": "stdout",
     "output_type": "stream",
     "text": [
      "3.3333333333333335\n",
      "3.333\n"
     ]
    }
   ],
   "source": [
    "x, y = input().split()\n",
    "result = float(x) / float(y)\n",
    "print(format(result, '.3f'))"
   ]
  },
  {
   "cell_type": "markdown",
   "metadata": {},
   "source": [
    "### 6044. [기초-산술연산] 정수 2개 입력받아 자동 계산하기"
   ]
  },
  {
   "cell_type": "code",
   "execution_count": 70,
   "metadata": {},
   "outputs": [
    {
     "name": "stdout",
     "output_type": "stream",
     "text": [
      "13\n",
      "7\n",
      "30\n",
      "3\n",
      "1\n",
      "3.33\n"
     ]
    }
   ],
   "source": [
    "x, y = input().split()\n",
    "x = int(x)\n",
    "y = int(y)\n",
    "\n",
    "print(x+y)\n",
    "print(x-y)\n",
    "print(x*y)\n",
    "print(x//y)\n",
    "print(x%y)\n",
    "print(format(x/y, '.2f'))"
   ]
  },
  {
   "cell_type": "markdown",
   "metadata": {},
   "source": [
    "### 6045. [기초-산술연산] 정수 3개 입력받아 합과 평균 출력하기"
   ]
  },
  {
   "cell_type": "code",
   "execution_count": 73,
   "metadata": {},
   "outputs": [
    {
     "name": "stdout",
     "output_type": "stream",
     "text": [
      "6 2.00\n"
     ]
    }
   ],
   "source": [
    "x, y, z = input().split()\n",
    "x = int(x)\n",
    "y = int(y)\n",
    "z = int(z)\n",
    "\n",
    "sum = x+y+z\n",
    "avg = (x+y+z)/3\n",
    "\n",
    "print(sum, format(avg, '.2f'))"
   ]
  },
  {
   "cell_type": "markdown",
   "metadata": {},
   "source": [
    "### 6046. [기초-비트시프트연산] 정수 1개 입력받아 2배 곱해 출력하기"
   ]
  },
  {
   "cell_type": "markdown",
   "metadata": {},
   "source": [
    "- 비트 시프트 연산?\n",
    "   - 컴퓨터 내부에는 값들이 2진수의 형태로 저장되기 때문에 2진수 형태의 값을 왼쪽(<<)이나 오른쪽(>>)으로 지정한 비트 수만큼 밀어주면 2배씩 늘어나거나, 1/2로 줄어든다.\n",
    "   - ``<<`` : 주어진 개수 만큼 수의 오른쪽에 0이 추가(e.g. 0010(2) -> 00100(4) )\n",
    "   - ``>>`` : 주어진 개수 만큼 수의 왼쪽에 0이 추가, 가장 오른쪽의 1비트는 소멸(e.g. 0010(2) -> 0001(1) )"
   ]
  },
  {
   "cell_type": "code",
   "execution_count": 75,
   "metadata": {},
   "outputs": [
    {
     "name": "stdout",
     "output_type": "stream",
     "text": [
      "12\n"
     ]
    }
   ],
   "source": [
    "x = int(input())\n",
    "print(x<<2)"
   ]
  },
  {
   "cell_type": "markdown",
   "metadata": {},
   "source": [
    "### 6047. [기초-비트시프트연산] 2의 거듭제곱 배로 곱해 출력하기"
   ]
  },
  {
   "cell_type": "markdown",
   "metadata": {},
   "source": [
    "- 비트 시프트 연산의 계산법\n",
    "   - ``x << y`` 의 의미는 x에 2의 y승(2(y))을 곱한다는 의미\n",
    "   - 3 << 2 는 0011(3) -> 1100(12)으로 변환, 3에 2의 2승(2(2))을 곱한 값과 같다."
   ]
  },
  {
   "cell_type": "code",
   "execution_count": 80,
   "metadata": {},
   "outputs": [
    {
     "name": "stdout",
     "output_type": "stream",
     "text": [
      "12\n"
     ]
    }
   ],
   "source": [
    "x, y = input().split()\n",
    "print(int(x)<<int(y))"
   ]
  },
  {
   "cell_type": "markdown",
   "metadata": {},
   "source": [
    "### 6048. [기초-비교연산] 정수 2개 입력받아 비교하기1"
   ]
  },
  {
   "cell_type": "code",
   "execution_count": 81,
   "metadata": {},
   "outputs": [
    {
     "name": "stdout",
     "output_type": "stream",
     "text": [
      "True\n"
     ]
    }
   ],
   "source": [
    "x, y = input().split()\n",
    "print(int(x)<int(y))"
   ]
  },
  {
   "cell_type": "markdown",
   "metadata": {},
   "source": [
    "### 6049. [기초-비교연산] 정수 2개 입력받아 비교하기2"
   ]
  },
  {
   "cell_type": "code",
   "execution_count": 83,
   "metadata": {},
   "outputs": [
    {
     "name": "stdout",
     "output_type": "stream",
     "text": [
      "True\n"
     ]
    }
   ],
   "source": [
    "x, y = input().split()\n",
    "print(int(x)==int(y))"
   ]
  }
 ],
 "metadata": {
  "kernelspec": {
   "display_name": "Python 3",
   "language": "python",
   "name": "python3"
  },
  "language_info": {
   "codemirror_mode": {
    "name": "ipython",
    "version": 3
   },
   "file_extension": ".py",
   "mimetype": "text/x-python",
   "name": "python",
   "nbconvert_exporter": "python",
   "pygments_lexer": "ipython3",
   "version": "3.10.9"
  }
 },
 "nbformat": 4,
 "nbformat_minor": 2
}
